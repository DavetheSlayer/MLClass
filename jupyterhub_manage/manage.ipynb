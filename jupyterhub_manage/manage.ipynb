{
 "metadata": {
  "language_info": {
   "codemirror_mode": {
    "name": "ipython",
    "version": 3
   },
   "file_extension": ".py",
   "mimetype": "text/x-python",
   "name": "python",
   "nbconvert_exporter": "python",
   "pygments_lexer": "ipython3",
   "version": "3.6.9-final"
  },
  "orig_nbformat": 2,
  "kernelspec": {
   "name": "Python 3.6.9 64-bit",
   "display_name": "Python 3.6.9 64-bit",
   "metadata": {
    "interpreter": {
     "hash": "30295c5bec572e859485b1ffa5e89b8b3e2022ef6e3e739c1ac40f143a557caf"
    }
   }
  }
 },
 "nbformat": 4,
 "nbformat_minor": 2,
 "cells": [
  {
   "cell_type": "code",
   "execution_count": 1,
   "metadata": {},
   "outputs": [],
   "source": [
    "# GNU GPL3\n",
    "# The instructor and TAs of CS 474/574\n",
    "\n",
    "import requests\n",
    "import json\n",
    "\n",
    "import token474\n",
    "token = token474.token  # str, like \"66d326b0e8fe56b9d841a71e3b956ba7\"\n",
    "# TAs: save your token in the file token474.py as token=\"xyz\" then import here.\n",
    "# To request a token, see https://jupyterhub.readthedocs.io/en/stable/reference/rest.html\n",
    "\n",
    "api_url = 'http://atan-bao.cs.iastate.edu:8080/hub/api'"
   ]
  },
  {
   "cell_type": "code",
   "execution_count": 2,
   "metadata": {
    "tags": []
   },
   "outputs": [],
   "source": [
    "class HubManager:\n",
    "    def __init__(self, api_url, token):\n",
    "        self.api_url = api_url\n",
    "        self.token = token\n",
    "\n",
    "    def list_users(self): \n",
    "        list_columns = ['name', 'admin', 'last_activity']\n",
    "        r = requests.get(self.api_url + '/users',\n",
    "            headers={'Authorization': 'token %s' % self.token}\n",
    "            )\n",
    "\n",
    "        r.raise_for_status()\n",
    "        print (', '.join(list_columns))\n",
    "        for entry in r.json():\n",
    "            print ([entry[key] for key in list_columns])\n",
    "\n",
    "        # To see all keys, dump the full json like below\n",
    "        # print (json.dumps(r.json(), indent=4, sort_keys=True))\n",
    "\n",
    "    def add_users(self, usernames, admin=False):\n",
    "        data = {'usernames':usernames, 'admin':admin}\n",
    "        r = requests.post(self.api_url + '/users',\n",
    "            headers={'Authorization': 'token %s' % self.token},\n",
    "            json=data\n",
    "            )\n",
    "        if r.status_code == 201:\n",
    "            print (\"Users %s created suffessfully, although some users may already exist\" % \", \".join(usernames))\n",
    "        else: \n",
    "            print (r.json())\n",
    "\n",
    "    def delete_user(self, username):\n",
    "        \"\"\"Delete one user each time\n",
    "        \"\"\"\n",
    "        r = requests.delete(self.api_url + '/users/' + username,\n",
    "            headers={'Authorization': 'token %s' % self.token},\n",
    "            )\n",
    "\n",
    "        if r.status_code == 204:\n",
    "            print (\"User %s deleted successfully.\" % username)\n",
    "        elif r.status_code == 404:\n",
    "            print (\"User %s doesn't exist.\" % username)\n",
    "        else: \n",
    "            print (r)"
   ]
  },
  {
   "cell_type": "code",
   "execution_count": 3,
   "metadata": {
    "tags": []
   },
   "outputs": [
    {
     "output_type": "stream",
     "name": "stdout",
     "text": "name, admin, last_activity\n[&#39;yuhuangdadi&#39;, True, &#39;2020-09-30T00:41:56.948444Z&#39;]\n[&#39;forrest&#39;, True, &#39;2020-10-03T05:38:48.647672Z&#39;]\n[&#39;youbiao&#39;, True, None]\n[&#39;roger&#39;, True, None]\n[&#39;hebi&#39;, True, None]\n[&#39;test&#39;, False, None]\n"
    }
   ],
   "source": [
    "TA = HubManager(api_url, token)\n",
    "TA.list_users()"
   ]
  },
  {
   "cell_type": "code",
   "execution_count": 4,
   "metadata": {
    "tags": []
   },
   "outputs": [
    {
     "output_type": "stream",
     "name": "stdout",
     "text": "Users test, abc created suffessfully, although some users may already exist\nUsers MonkeyKing created suffessfully, although some users may already exist\nname, admin, last_activity\n[&#39;yuhuangdadi&#39;, True, &#39;2020-09-30T00:41:56.948444Z&#39;]\n[&#39;forrest&#39;, True, &#39;2020-10-03T05:38:48.647672Z&#39;]\n[&#39;youbiao&#39;, True, None]\n[&#39;roger&#39;, True, None]\n[&#39;hebi&#39;, True, None]\n[&#39;test&#39;, False, None]\n[&#39;abc&#39;, False, None]\n[&#39;monkeyking&#39;, False, None]\n"
    }
   ],
   "source": [
    "TA.add_users(['test', 'abc'])\n",
    "TA.add_users(['MonkeyKing'])\n",
    "TA.list_users()\n",
    "# Very stupid: JupyterHub turns all usernames lower case. See MonkeyKing."
   ]
  },
  {
   "cell_type": "code",
   "execution_count": 5,
   "metadata": {
    "tags": []
   },
   "outputs": [
    {
     "output_type": "stream",
     "name": "stdout",
     "text": "User testuser doesn&#39;t exist.\n"
    }
   ],
   "source": [
    "TA.delete_user('testuser')"
   ]
  },
  {
   "cell_type": "code",
   "execution_count": 6,
   "metadata": {
    "tags": []
   },
   "outputs": [
    {
     "output_type": "stream",
     "name": "stdout",
     "text": "User abc deleted successfully.\nname, admin, last_activity\n[&#39;yuhuangdadi&#39;, True, &#39;2020-09-30T00:41:56.948444Z&#39;]\n[&#39;forrest&#39;, True, &#39;2020-10-03T05:38:48.647672Z&#39;]\n[&#39;youbiao&#39;, True, None]\n[&#39;roger&#39;, True, None]\n[&#39;hebi&#39;, True, None]\n[&#39;test&#39;, False, None]\n[&#39;monkeyking&#39;, False, None]\n"
    }
   ],
   "source": [
    "TA.delete_user('abc')\n",
    "TA.list_users()"
   ]
  },
  {
   "cell_type": "code",
   "execution_count": null,
   "metadata": {},
   "outputs": [],
   "source": []
  }
 ]
}